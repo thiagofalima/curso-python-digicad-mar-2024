{
 "cells": [
  {
   "cell_type": "code",
   "execution_count": 1,
   "id": "279670e0-e503-41cb-9315-ba7abded9c57",
   "metadata": {},
   "outputs": [],
   "source": [
    "import pandas as pd"
   ]
  },
  {
   "cell_type": "code",
   "execution_count": 2,
   "id": "1926a3ff-a597-46be-8c0d-116c2e62fc76",
   "metadata": {},
   "outputs": [],
   "source": [
    "df = pd.read_csv(\"vgsales.csv\")"
   ]
  },
  {
   "cell_type": "code",
   "execution_count": 6,
   "id": "60d2cd27-dfc8-42fa-813f-a80ac4163dea",
   "metadata": {},
   "outputs": [],
   "source": [
    "# display(df)"
   ]
  },
  {
   "cell_type": "code",
   "execution_count": 4,
   "id": "c9a050e5-97ac-462d-bed8-51305823c821",
   "metadata": {},
   "outputs": [],
   "source": [
    "df = df.dropna()"
   ]
  },
  {
   "cell_type": "code",
   "execution_count": 10,
   "id": "5822f6d8-fe39-4f7a-b817-fae802c55507",
   "metadata": {},
   "outputs": [],
   "source": [
    "# display(df)"
   ]
  },
  {
   "cell_type": "code",
   "execution_count": 8,
   "id": "04de4532-65dd-4ae0-a1e2-09a77db4df92",
   "metadata": {},
   "outputs": [],
   "source": [
    "df[\"Year\"] = [int(ano) for ano in df[\"Year\"]]"
   ]
  },
  {
   "cell_type": "code",
   "execution_count": 16,
   "id": "fbc33d53-78cc-4413-a7bc-b25e03b19e27",
   "metadata": {},
   "outputs": [],
   "source": [
    "# display(df)"
   ]
  },
  {
   "cell_type": "code",
   "execution_count": 11,
   "id": "a29dda5a-fad5-4f16-bdac-b055e7fce376",
   "metadata": {},
   "outputs": [],
   "source": [
    "jogos_2000 = df.loc[lambda tabela: tabela[\"Year\"] == 2000]"
   ]
  },
  {
   "cell_type": "code",
   "execution_count": 14,
   "id": "5095ef04-e18b-472f-a45d-a7cfa1dd6839",
   "metadata": {},
   "outputs": [],
   "source": [
    "# display(jogos_2000)"
   ]
  },
  {
   "cell_type": "code",
   "execution_count": 13,
   "id": "5a60a1c3-8160-4530-bc59-74cefc136e31",
   "metadata": {},
   "outputs": [],
   "source": [
    "jogos_2000 = jogos_2000.drop([\"NA_Sales\", \"EU_Sales\", \"JP_Sales\", \"Other_Sales\"], axis=1)"
   ]
  },
  {
   "cell_type": "code",
   "execution_count": 15,
   "id": "07450c1a-3328-4669-94ee-e0ccfd454097",
   "metadata": {},
   "outputs": [
    {
     "data": {
      "text/html": [
       "<div>\n",
       "<style scoped>\n",
       "    .dataframe tbody tr th:only-of-type {\n",
       "        vertical-align: middle;\n",
       "    }\n",
       "\n",
       "    .dataframe tbody tr th {\n",
       "        vertical-align: top;\n",
       "    }\n",
       "\n",
       "    .dataframe thead th {\n",
       "        text-align: right;\n",
       "    }\n",
       "</style>\n",
       "<table border=\"1\" class=\"dataframe\">\n",
       "  <thead>\n",
       "    <tr style=\"text-align: right;\">\n",
       "      <th></th>\n",
       "      <th>Rank</th>\n",
       "      <th>Name</th>\n",
       "      <th>Platform</th>\n",
       "      <th>Year</th>\n",
       "      <th>Genre</th>\n",
       "      <th>Publisher</th>\n",
       "      <th>Global_Sales</th>\n",
       "    </tr>\n",
       "  </thead>\n",
       "  <tbody>\n",
       "    <tr>\n",
       "      <th>132</th>\n",
       "      <td>133</td>\n",
       "      <td>Pokémon Crystal Version</td>\n",
       "      <td>GB</td>\n",
       "      <td>2000</td>\n",
       "      <td>Role-Playing</td>\n",
       "      <td>Nintendo</td>\n",
       "      <td>6.39</td>\n",
       "    </tr>\n",
       "    <tr>\n",
       "      <th>173</th>\n",
       "      <td>174</td>\n",
       "      <td>Final Fantasy IX</td>\n",
       "      <td>PS</td>\n",
       "      <td>2000</td>\n",
       "      <td>Role-Playing</td>\n",
       "      <td>SquareSoft</td>\n",
       "      <td>5.30</td>\n",
       "    </tr>\n",
       "    <tr>\n",
       "      <th>223</th>\n",
       "      <td>224</td>\n",
       "      <td>Driver 2</td>\n",
       "      <td>PS</td>\n",
       "      <td>2000</td>\n",
       "      <td>Action</td>\n",
       "      <td>Atari</td>\n",
       "      <td>4.73</td>\n",
       "    </tr>\n",
       "    <tr>\n",
       "      <th>225</th>\n",
       "      <td>226</td>\n",
       "      <td>Tony Hawk's Pro Skater 2</td>\n",
       "      <td>PS</td>\n",
       "      <td>2000</td>\n",
       "      <td>Sports</td>\n",
       "      <td>Activision</td>\n",
       "      <td>4.68</td>\n",
       "    </tr>\n",
       "    <tr>\n",
       "      <th>242</th>\n",
       "      <td>243</td>\n",
       "      <td>Dragon Quest VII: Warriors of Eden</td>\n",
       "      <td>PS</td>\n",
       "      <td>2000</td>\n",
       "      <td>Role-Playing</td>\n",
       "      <td>Enix Corporation</td>\n",
       "      <td>4.47</td>\n",
       "    </tr>\n",
       "    <tr>\n",
       "      <th>...</th>\n",
       "      <td>...</td>\n",
       "      <td>...</td>\n",
       "      <td>...</td>\n",
       "      <td>...</td>\n",
       "      <td>...</td>\n",
       "      <td>...</td>\n",
       "      <td>...</td>\n",
       "    </tr>\n",
       "    <tr>\n",
       "      <th>15505</th>\n",
       "      <td>15508</td>\n",
       "      <td>Point Blank 3</td>\n",
       "      <td>PS</td>\n",
       "      <td>2000</td>\n",
       "      <td>Shooter</td>\n",
       "      <td>Namco Bandai Games</td>\n",
       "      <td>0.02</td>\n",
       "    </tr>\n",
       "    <tr>\n",
       "      <th>15651</th>\n",
       "      <td>15654</td>\n",
       "      <td>Airline Tycoon</td>\n",
       "      <td>PC</td>\n",
       "      <td>2000</td>\n",
       "      <td>Simulation</td>\n",
       "      <td>Interplay</td>\n",
       "      <td>0.02</td>\n",
       "    </tr>\n",
       "    <tr>\n",
       "      <th>16163</th>\n",
       "      <td>16166</td>\n",
       "      <td>Deus Ex</td>\n",
       "      <td>PC</td>\n",
       "      <td>2000</td>\n",
       "      <td>Role-Playing</td>\n",
       "      <td>Eidos Interactive</td>\n",
       "      <td>0.01</td>\n",
       "    </tr>\n",
       "    <tr>\n",
       "      <th>16518</th>\n",
       "      <td>16521</td>\n",
       "      <td>Crossroad Crisis</td>\n",
       "      <td>PS</td>\n",
       "      <td>2000</td>\n",
       "      <td>Puzzle</td>\n",
       "      <td>Success</td>\n",
       "      <td>0.01</td>\n",
       "    </tr>\n",
       "    <tr>\n",
       "      <th>16579</th>\n",
       "      <td>16582</td>\n",
       "      <td>PGA European Tour</td>\n",
       "      <td>N64</td>\n",
       "      <td>2000</td>\n",
       "      <td>Sports</td>\n",
       "      <td>Infogrames</td>\n",
       "      <td>0.01</td>\n",
       "    </tr>\n",
       "  </tbody>\n",
       "</table>\n",
       "<p>349 rows × 7 columns</p>\n",
       "</div>"
      ],
      "text/plain": [
       "        Rank                                Name Platform  Year         Genre  \\\n",
       "132      133             Pokémon Crystal Version       GB  2000  Role-Playing   \n",
       "173      174                    Final Fantasy IX       PS  2000  Role-Playing   \n",
       "223      224                            Driver 2       PS  2000        Action   \n",
       "225      226            Tony Hawk's Pro Skater 2       PS  2000        Sports   \n",
       "242      243  Dragon Quest VII: Warriors of Eden       PS  2000  Role-Playing   \n",
       "...      ...                                 ...      ...   ...           ...   \n",
       "15505  15508                       Point Blank 3       PS  2000       Shooter   \n",
       "15651  15654                      Airline Tycoon       PC  2000    Simulation   \n",
       "16163  16166                             Deus Ex       PC  2000  Role-Playing   \n",
       "16518  16521                    Crossroad Crisis       PS  2000        Puzzle   \n",
       "16579  16582                   PGA European Tour      N64  2000        Sports   \n",
       "\n",
       "                Publisher  Global_Sales  \n",
       "132              Nintendo          6.39  \n",
       "173            SquareSoft          5.30  \n",
       "223                 Atari          4.73  \n",
       "225            Activision          4.68  \n",
       "242      Enix Corporation          4.47  \n",
       "...                   ...           ...  \n",
       "15505  Namco Bandai Games          0.02  \n",
       "15651           Interplay          0.02  \n",
       "16163   Eidos Interactive          0.01  \n",
       "16518             Success          0.01  \n",
       "16579          Infogrames          0.01  \n",
       "\n",
       "[349 rows x 7 columns]"
      ]
     },
     "metadata": {},
     "output_type": "display_data"
    }
   ],
   "source": [
    "display(jogos_2000)"
   ]
  },
  {
   "cell_type": "code",
   "execution_count": 17,
   "id": "ee1771c5-6eb1-4556-a341-f53bd95a7bb9",
   "metadata": {},
   "outputs": [],
   "source": [
    "jogos_2000 = jogos_2000.sort_values(by=[\"Global_Sales\"], ascending=False)"
   ]
  },
  {
   "cell_type": "code",
   "execution_count": 18,
   "id": "9aa58b96-7e87-4760-97d5-6aaa23bbc111",
   "metadata": {},
   "outputs": [],
   "source": [
    "top_jogos_2000 = jogos_2000.head()"
   ]
  },
  {
   "cell_type": "code",
   "execution_count": 22,
   "id": "6248f0c3-c6b5-4074-88c7-c44c85b15047",
   "metadata": {},
   "outputs": [],
   "source": [
    "# display(top_jogos_2000)"
   ]
  },
  {
   "cell_type": "code",
   "execution_count": 20,
   "id": "58cb7c43-91dc-456c-8636-9872d56052cc",
   "metadata": {},
   "outputs": [],
   "source": [
    "import matplotlib.pyplot as plt"
   ]
  },
  {
   "cell_type": "code",
   "execution_count": 45,
   "id": "0a573669-3325-4ba9-a28d-f0426feb6a78",
   "metadata": {},
   "outputs": [
    {
     "data": {
      "image/png": "[encoded data removed]",
      "text/plain": [
       "<Figure size 1800x500 with 1 Axes>"
      ]
     },
     "metadata": {},
     "output_type": "display_data"
    }
   ],
   "source": [
    "fig, ax = plt.subplots()\n",
    "cores = [\"#03AED2\", \"#68D2E8\", \"#FDDE55\", \"#FEEFAD\", \"#03AED2\"]\n",
    "grafico = ax.bar(top_jogos_2000[\"Name\"], top_jogos_2000[\"Global_Sales\"], color=cores, width=0.3)\n",
    "ax.set_ylim(0, 10)\n",
    "ax.bar_label(grafico, padding=3)\n",
    "fig.set_figheight(5)\n",
    "fig.set_figwidth(18)\n",
    "plt.show()"
   ]
  },
  {
   "cell_type": "code",
   "execution_count": 32,
   "id": "302da1fb-e98f-4b9d-b079-0d17ba5e1fe5",
   "metadata": {},
   "outputs": [],
   "source": []
  },
  {
   "cell_type": "code",
   "execution_count": null,
   "id": "bc056584-8ead-4ff9-950b-9a2187d6143d",
   "metadata": {},
   "outputs": [],
   "source": []
  }
 ],
 "metadata": {
  "kernelspec": {
   "display_name": "Python 3 (ipykernel)",
   "language": "python",
   "name": "python3"
  },
  "language_info": {
   "codemirror_mode": {
    "name": "ipython",
    "version": 3
   },
   "file_extension": ".py",
   "mimetype": "text/x-python",
   "name": "python",
   "nbconvert_exporter": "python",
   "pygments_lexer": "ipython3",
   "version": "3.11.7"
  }
 },
 "nbformat": 4,
 "nbformat_minor": 5
}
